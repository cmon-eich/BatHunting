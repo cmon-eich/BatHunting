{
 "cells": [
  {
   "cell_type": "markdown",
   "id": "8c420b52",
   "metadata": {},
   "source": [
    "Erst mal die Daten in eine richtige Datenbank importieren!"
   ]
  },
  {
   "cell_type": "code",
   "execution_count": 11,
   "id": "a815e1e6",
   "metadata": {},
   "outputs": [],
   "source": [
    "import psycopg2\n",
    "import numpy as np\n",
    "import pandas as pd\n",
    "import io\n",
    "import sqlite3\n",
    "from sqlalchemy import create_engine, Column, Integer, ARRAY, MetaData, Table, Text\n",
    "from sqlalchemy.dialects.postgresql import ARRAY as PG_ARRAY\n",
    "from psycopg2.extensions import register_adapter, AsIs\n",
    "\n",
    "# Make array from the binary data in the database\n",
    "def _convert_array(text):\n",
    "\tout = io.BytesIO(text)\n",
    "\tout.seek(0)\n",
    "\treturn np.load(out, allow_pickle=True)\n",
    "\n",
    "# Make sqlite3 binary from the given array (probably for saving the array in the database)\n",
    "def _adapt_array(arr):\n",
    "\tout = io.BytesIO()\n",
    "\tnp.save(out, arr)\n",
    "\tout.seek(0)\n",
    "\treturn sqlite3.Binary(out.read())\n",
    "\n",
    "sqlite3.register_adapter(np.ndarray, _adapt_array)\n",
    "sqlite3.register_converter(\"ARRAY\", _convert_array)\n",
    "\n",
    "\n",
    "# Custom adapter function for postgre\n",
    "def adapt_numpy_ndarray(numpy_array):\n",
    "    return AsIs(list(numpy_array))\n",
    "\n",
    "# Register the postgre-adapter\n",
    "register_adapter(np.ndarray, adapt_numpy_ndarray)\n",
    "\n",
    "\n",
    "# Database connection parameters\n",
    "dbname = 'bathunting'\n",
    "user = 'python'\n",
    "password = 'python_password'\n",
    "host = 'localhost'\n",
    "port = '5432' \n",
    "engine = create_engine(f'postgresql+psycopg2://{user}:{password}@{host}:{port}/{dbname}')\n",
    "\n",
    "metadata = MetaData()\n",
    "my_table = Table('batcall', metadata,\n",
    "                 Column('call', Integer, primary_key=True),\n",
    "                 Column('target', Integer),\n",
    "                 Column('id', Integer),\n",
    "                 Column('bat', Text),\n",
    "                 Column('my_array', PG_ARRAY(Integer)))\n",
    "\n",
    "metadata.create_all(engine)\n",
    "\n",
    "\n",
    "# Connect to the database\n",
    "pg_conn = psycopg2.connect(dbname=dbname, user=user, password=password, host=host)\n",
    "\n",
    "# Create a cursor object\n",
    "pg_cur = pg_conn.cursor()\n",
    "\n",
    "# Execute a query\n",
    "#pg_cur.execute('CREATE TABLE batcall(call serial primary key, target int NOT NULL,id int, bat text NOT NULL, arr int[] NOT NULL )')\n",
    "\n",
    "lite_conn = sqlite3.connect('batcallsv14.db', detect_types=True)\n",
    "lite_cursor = lite_conn.cursor()\n",
    "query = f\"SELECT call, target, id, bat, arr FROM batcalls\"\n",
    "df = pd.read_sql_query(query, lite_conn)\n",
    "lite_conn.close()\n",
    "\n",
    "\n",
    "df['arr'] = df['arr'].apply(lambda x: x.tolist())\n",
    "df.to_sql('batcall', engine, index=False, if_exists='replace')\n",
    "\n",
    "\n",
    "# Close the cursor and connection\n",
    "pg_cur.close()\n",
    "pg_conn.close()"
   ]
  },
  {
   "cell_type": "code",
   "execution_count": 13,
   "id": "292d0dee",
   "metadata": {},
   "outputs": [
    {
     "name": "stdout",
     "output_type": "stream",
     "text": [
      "   count(*)\n",
      "0     51719\n"
     ]
    }
   ],
   "source": [
    "import numpy as np\n",
    "import pandas as pd\n",
    "import io\n",
    "import sqlite3\n",
    "lite_conn = sqlite3.connect('batcallsv14.db', detect_types=True)\n",
    "lite_cursor = lite_conn.cursor()\n",
    "query = f\"SELECT count(*) FROM batcalls\"\n",
    "df = pd.read_sql_query(query, lite_conn)\n",
    "lite_conn.close()\n",
    "print(df)"
   ]
  },
  {
   "cell_type": "code",
   "execution_count": null,
   "id": "18ff955b",
   "metadata": {},
   "outputs": [],
   "source": []
  }
 ],
 "metadata": {
  "kernelspec": {
   "display_name": "Python 3 (ipykernel)",
   "language": "python",
   "name": "python3"
  },
  "language_info": {
   "codemirror_mode": {
    "name": "ipython",
    "version": 3
   },
   "file_extension": ".py",
   "mimetype": "text/x-python",
   "name": "python",
   "nbconvert_exporter": "python",
   "pygments_lexer": "ipython3",
   "version": "3.10.12"
  }
 },
 "nbformat": 4,
 "nbformat_minor": 5
}
